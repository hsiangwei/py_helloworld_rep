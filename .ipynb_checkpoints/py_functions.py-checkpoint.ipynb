{
 "cells": [
  {
   "cell_type": "code",
   "execution_count": 1,
   "metadata": {
    "collapsed": false
   },
   "outputs": [
    {
     "name": "stdout",
     "output_type": "stream",
     "text": [
      "Help on function circle_calculate in module __main__:\n",
      "\n",
      "circle_calculate(radius, area=True)\n",
      "    依據輸入的半徑與 area 參數計算圓形的面積或周長\n",
      "\n",
      "28.274333882308138\n",
      "18.84955592153876\n"
     ]
    }
   ],
   "source": [
    "import math # 要使用 pi 得引入套件 math\n",
    "\n",
    "# 定義自訂函數\n",
    "def circle_calculate(radius, area = True):\n",
    "    '依據輸入的半徑與 area 參數計算圓形的面積或周長' # 單行的 docstring\n",
    "    circle_area = math.pi * radius**2\n",
    "    circle_circum = 2 * math.pi * radius\n",
    "    if area == True:\n",
    "        return circle_area\n",
    "    else:\n",
    "        return circle_circum\n",
    "\n",
    "# 呼叫自訂函數\n",
    "help(circle_calculate) # 查詢自訂函數\n",
    "my_radius = 3\n",
    "print(circle_calculate(my_radius)) # 預設回傳面積\n",
    "print(circle_calculate(my_radius, area = False)) # 指定參數回傳周長"
   ]
  },
  {
   "cell_type": "code",
   "execution_count": 3,
   "metadata": {
    "collapsed": false
   },
   "outputs": [
    {
     "name": "stdout",
     "output_type": "stream",
     "text": [
      "(28.274333882308138, 18.84955592153876)\n"
     ]
    }
   ],
   "source": [
    "#在 return 後面將多個值用逗號 , 隔開就會回傳一個 tuple\n",
    "import math # 要使用 pi 得引入套件 math\n",
    "\n",
    "# 定義自訂函數\n",
    "def circle_calculate(radius):\n",
    "    '依據輸入的半徑同時計算並回傳圓形的面積或周長' # 單行的 docstring\n",
    "    circle_area = math.pi * radius**2\n",
    "    circle_circum = 2 * math.pi * radius\n",
    "    return circle_area, circle_circum\n",
    "\n",
    "# 呼叫自訂函數\n",
    "my_radius = 3\n",
    "print(circle_calculate(my_radius))"
   ]
  },
  {
   "cell_type": "code",
   "execution_count": 5,
   "metadata": {
    "collapsed": false
   },
   "outputs": [
    {
     "name": "stdout",
     "output_type": "stream",
     "text": [
      "5.5\n"
     ]
    }
   ],
   "source": [
    "#巢狀函數\n",
    "#在函數裡面嵌入函數\n",
    "#舉例來說一個計算平均數的函數裡面應該要包含兩個函數：\n",
    "#一個是計算總和的函數 my_sum()\n",
    "#一個是計算個數的函數 my_length()\n",
    "\n",
    "\n",
    "# 定義自訂函數\n",
    "def my_mean(input_list):\n",
    "    '計算平均數' # docstrings\n",
    "    def my_sum(input_list):\n",
    "        '計算總和'\n",
    "        temp_sum = 0\n",
    "        for i in input_list:\n",
    "            temp_sum += i\n",
    "        return temp_sum\n",
    "    def my_length(input_list):\n",
    "        '計算個數'\n",
    "        temp_length = 0\n",
    "        for i in input_list:\n",
    "            temp_length += 1\n",
    "        return temp_length\n",
    "    return my_sum(input_list) / my_length(input_list)\n",
    "\n",
    "# 呼叫自訂函數\n",
    "one_to_10 = range(1, 11)\n",
    "print(my_mean(one_to_10))\n",
    "\n",
    "\n"
   ]
  },
  {
   "cell_type": "code",
   "execution_count": 7,
   "metadata": {
    "collapsed": false
   },
   "outputs": [
    {
     "name": "stdout",
     "output_type": "stream",
     "text": [
      "請輸入數值。\n"
     ]
    }
   ],
   "source": [
    "#Python 使用 try - except 的語法結構進行錯誤處理\n",
    "import math # 要使用 pi 得引入套件 math\n",
    "\n",
    "# 定義自訂函數\n",
    "def circle_calculate(radius):\n",
    "    '依據輸入的半徑同時計算並回傳圓形的面積或周長' # 單行的 docstring\n",
    "    try:\n",
    "        circle_area = math.pi * radius**2\n",
    "        circle_circum = 2 * math.pi * radius\n",
    "        return circle_area, circle_circum\n",
    "    except:\n",
    "        print(\"請輸入數值。\")\n",
    "\n",
    "# 呼叫自訂函數\n",
    "my_radius = \"3\"\n",
    "circle_calculate(my_radius)"
   ]
  },
  {
   "cell_type": "code",
   "execution_count": null,
   "metadata": {
    "collapsed": true
   },
   "outputs": [],
   "source": []
  }
 ],
 "metadata": {
  "kernelspec": {
   "display_name": "Python 3",
   "language": "python",
   "name": "python3"
  },
  "language_info": {
   "codemirror_mode": {
    "name": "ipython",
    "version": 3
   },
   "file_extension": ".py",
   "mimetype": "text/x-python",
   "name": "python",
   "nbconvert_exporter": "python",
   "pygments_lexer": "ipython3",
   "version": "3.5.2"
  }
 },
 "nbformat": 4,
 "nbformat_minor": 1
}
