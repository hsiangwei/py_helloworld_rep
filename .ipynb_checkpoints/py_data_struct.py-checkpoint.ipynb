{
 "cells": [
  {
   "cell_type": "code",
   "execution_count": 1,
   "metadata": {
    "collapsed": false
   },
   "outputs": [
    {
     "name": "stdout",
     "output_type": "stream",
     "text": [
      "金州勇士隊\n",
      "21\n",
      "4\n",
      "0.84\n",
      "True\n"
     ]
    }
   ],
   "source": [
    "#list, tuple\n",
    "# dict\n",
    "team_name = \"金州勇士隊\"\n",
    "wins = 21\n",
    "losses = 4\n",
    "win_percentage = 0.84\n",
    "is_on_winning_streak = True\n",
    "\n",
    "golden_state_warriors = {\n",
    "    \"team_name\": team_name, #\"team_name\" is key, var team_name assigns value to this key\n",
    "    \"wins\": wins,\n",
    "    \"losses\": losses,\n",
    "    \"win_percentage\": win_percentage,\n",
    "    \"is_on_winning_streak\": is_on_winning_streak\n",
    "}\n",
    "\n",
    "print(golden_state_warriors[\"team_name\"])\n",
    "print(golden_state_warriors[\"wins\"])\n",
    "print(golden_state_warriors[\"losses\"])\n",
    "print(golden_state_warriors[\"win_percentage\"])\n",
    "print(golden_state_warriors[\"is_on_winning_streak\"])"
   ]
  },
  {
   "cell_type": "code",
   "execution_count": 1,
   "metadata": {
    "collapsed": true
   },
   "outputs": [],
   "source": [
    "# above sample can be view as one row in a table, \n",
    "# or 1 record in a dataset\n",
    "#dict can contains different data type"
   ]
  },
  {
   "cell_type": "code",
   "execution_count": 2,
   "metadata": {
    "collapsed": false
   },
   "outputs": [
    {
     "ename": "NameError",
     "evalue": "name 'km_to_list' is not defined",
     "output_type": "error",
     "traceback": [
      "\u001b[0;31m---------------------------------------------------------------------------\u001b[0m",
      "\u001b[0;31mNameError\u001b[0m                                 Traceback (most recent call last)",
      "\u001b[0;32m<ipython-input-2-48655424204c>\u001b[0m in \u001b[0;36m<module>\u001b[0;34m()\u001b[0m\n\u001b[1;32m      2\u001b[0m \u001b[0mkm_list\u001b[0m \u001b[1;33m=\u001b[0m \u001b[1;33m[\u001b[0m\u001b[1;36m21\u001b[0m\u001b[1;33m,\u001b[0m \u001b[1;36m42.195\u001b[0m\u001b[1;33m]\u001b[0m\u001b[1;33m\u001b[0m\u001b[0m\n\u001b[1;32m      3\u001b[0m \u001b[0mkm_to_mile\u001b[0m \u001b[1;33m=\u001b[0m \u001b[1;36m1.60934\u001b[0m\u001b[1;33m\u001b[0m\u001b[0m\n\u001b[0;32m----> 4\u001b[0;31m \u001b[0mmile_list\u001b[0m \u001b[1;33m=\u001b[0m \u001b[0mkm_list\u001b[0m \u001b[1;33m*\u001b[0m \u001b[0mkm_to_list\u001b[0m\u001b[1;33m\u001b[0m\u001b[0m\n\u001b[0m\u001b[1;32m      5\u001b[0m \u001b[0mprint\u001b[0m\u001b[1;33m(\u001b[0m\u001b[0mmile_list\u001b[0m\u001b[1;33m)\u001b[0m\u001b[1;33m\u001b[0m\u001b[0m\n",
      "\u001b[0;31mNameError\u001b[0m: name 'km_to_list' is not defined"
     ]
    }
   ],
   "source": [
    "# elementwise\n",
    "km_list = [21, 42.195]\n",
    "km_to_mile = 1.60934\n",
    "mile_list = km_list * km_to_list\n",
    "print(mile_list)"
   ]
  },
  {
   "cell_type": "code",
   "execution_count": 3,
   "metadata": {
    "collapsed": true
   },
   "outputs": [],
   "source": [
    "# oops, not support elementwise calculation\n",
    "# Therefore we nned ndarray"
   ]
  },
  {
   "cell_type": "code",
   "execution_count": 4,
   "metadata": {
    "collapsed": false
   },
   "outputs": [
    {
     "name": "stdout",
     "output_type": "stream",
     "text": [
      "<class 'numpy.ndarray'>\n"
     ]
    }
   ],
   "source": [
    "import numpy #hey, whats numpy\n",
    "\n",
    "km_list = [21, 42.195]\n",
    "km_array = numpy.array(km_list)\n",
    "print(type(km_array))\n"
   ]
  },
  {
   "cell_type": "code",
   "execution_count": 5,
   "metadata": {
    "collapsed": false
   },
   "outputs": [
    {
     "name": "stdout",
     "output_type": "stream",
     "text": [
      "[ 13.04879503  26.21875745]\n"
     ]
    }
   ],
   "source": [
    "km_to_mile = 0.621371192\n",
    "mile_array = km_array * km_to_mile\n",
    "print(mile_array)"
   ]
  },
  {
   "cell_type": "code",
   "execution_count": 6,
   "metadata": {
    "collapsed": true
   },
   "outputs": [],
   "source": [
    "# km_array's type is numpy.ndarray \n",
    "#numpy is the fundamental package for scientific computing "
   ]
  },
  {
   "cell_type": "code",
   "execution_count": 7,
   "metadata": {
    "collapsed": false
   },
   "outputs": [
    {
     "name": "stdout",
     "output_type": "stream",
     "text": [
      "<class 'numpy.ndarray'>\n",
      "[ 13.04879503  26.21875745]\n"
     ]
    }
   ],
   "source": [
    "import numpy as np # 引入 numpy 套件\n",
    "\n",
    "km_list = [21, 42.195]\n",
    "km_array = np.array(km_list)\n",
    "print(type(km_array))\n",
    "km_to_mile = 0.621371192\n",
    "mile_array = km_array * km_to_mile\n",
    "print(mile_array)"
   ]
  },
  {
   "cell_type": "code",
   "execution_count": 8,
   "metadata": {
    "collapsed": false
   },
   "outputs": [
    {
     "name": "stdout",
     "output_type": "stream",
     "text": [
      "int32\n",
      "<U11\n"
     ]
    }
   ],
   "source": [
    "# ndarray 只能容許一個資料類型\n",
    "my_np_array = np.array([1, True])\n",
    "print(my_np_array.dtype)\n",
    "my_np_array = np.array([1, True, \"one\"])\n",
    "print(my_np_array.dtype)"
   ]
  },
  {
   "cell_type": "code",
   "execution_count": 10,
   "metadata": {
    "collapsed": false
   },
   "outputs": [
    {
     "name": "stdout",
     "output_type": "stream",
     "text": [
      "[1 2 3 4]\n",
      "[ 1  4  9 16]\n",
      "---\n",
      "[[1 3]\n",
      " [2 4]]\n",
      "[[ 1  9]\n",
      " [ 4 16]]\n"
     ]
    }
   ],
   "source": [
    "# 補充, ndarray 可以支援向量運算, elementwise computing\n",
    "#ndarray 可以建立矩陣\n",
    "import numpy as np\n",
    "\n",
    "my_np_array = np.array([1, 2, 3, 4])\n",
    "print(my_np_array)\n",
    "print(my_np_array ** 2)\n",
    "print(\"---\") # 分隔一下\n",
    "\n",
    "my_2d_array = np.array([[1, 3],\n",
    "                        [2, 4]])\n",
    "print(my_2d_array)\n",
    "print(my_2d_array ** 2)"
   ]
  },
  {
   "cell_type": "code",
   "execution_count": 11,
   "metadata": {
    "collapsed": true
   },
   "outputs": [],
   "source": [
    "# above shows element-wise computing, which py list cannot do"
   ]
  },
  {
   "cell_type": "code",
   "execution_count": 13,
   "metadata": {
    "collapsed": false
   },
   "outputs": [
    {
     "name": "stdout",
     "output_type": "stream",
     "text": [
      "<class 'numpy.ndarray'>\n"
     ]
    }
   ],
   "source": [
    "print(type(my_2d_array))"
   ]
  },
  {
   "cell_type": "code",
   "execution_count": 14,
   "metadata": {
    "collapsed": false
   },
   "outputs": [
    {
     "name": "stdout",
     "output_type": "stream",
     "text": [
      "<class 'numpy.ndarray'>\n",
      "[1 3]\n"
     ]
    }
   ],
   "source": [
    "print(type(my_2d_array[0]))\n",
    "print(my_2d_array[0])"
   ]
  },
  {
   "cell_type": "code",
   "execution_count": null,
   "metadata": {
    "collapsed": true
   },
   "outputs": [],
   "source": []
  }
 ],
 "metadata": {
  "kernelspec": {
   "display_name": "Python 3",
   "language": "python",
   "name": "python3"
  },
  "language_info": {
   "codemirror_mode": {
    "name": "ipython",
    "version": 3
   },
   "file_extension": ".py",
   "mimetype": "text/x-python",
   "name": "python",
   "nbconvert_exporter": "python",
   "pygments_lexer": "ipython3",
   "version": "3.5.2"
  }
 },
 "nbformat": 4,
 "nbformat_minor": 1
}
