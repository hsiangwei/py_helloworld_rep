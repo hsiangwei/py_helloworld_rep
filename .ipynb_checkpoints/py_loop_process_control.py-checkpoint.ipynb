{
 "cells": [
  {
   "cell_type": "code",
   "execution_count": 1,
   "metadata": {
    "collapsed": false
   },
   "outputs": [
    {
     "name": "stdout",
     "output_type": "stream",
     "text": [
      "大西洋組\n",
      "中央組\n",
      "東南組\n",
      "西北組\n",
      "太平洋組\n",
      "西南組\n"
     ]
    }
   ],
   "source": [
    "nba_divs = [\"大西洋組\", \"中央組\", \"東南組\", \"西北組\", \"太平洋組\", \"西南組\"]\n",
    "\n",
    "# 迴圈結構\n",
    "for div in nba_divs:\n",
    "    print(div)"
   ]
  },
  {
   "cell_type": "code",
   "execution_count": 2,
   "metadata": {
    "collapsed": false
   },
   "outputs": [
    {
     "name": "stdout",
     "output_type": "stream",
     "text": [
      "5050\n",
      "100\n"
     ]
    }
   ],
   "source": [
    "one_to_hundred_list = range(1, 101)\n",
    "summation = 0\n",
    "\n",
    "for i in one_to_hundred_list:\n",
    "    summation += i\n",
    "\n",
    "print(summation)\n",
    "print(i)"
   ]
  },
  {
   "cell_type": "code",
   "execution_count": 3,
   "metadata": {
    "collapsed": false
   },
   "outputs": [
    {
     "name": "stdout",
     "output_type": "stream",
     "text": [
      "range(0, 5)\n"
     ]
    }
   ],
   "source": [
    "print(range(0,5))"
   ]
  },
  {
   "cell_type": "code",
   "execution_count": 5,
   "metadata": {
    "collapsed": false
   },
   "outputs": [
    {
     "name": "stdout",
     "output_type": "stream",
     "text": [
      "0\n",
      "1\n",
      "2\n",
      "3\n",
      "4\n"
     ]
    }
   ],
   "source": [
    "for i in range(0,5):\n",
    "    print(i)"
   ]
  },
  {
   "cell_type": "code",
   "execution_count": 6,
   "metadata": {
    "collapsed": false
   },
   "outputs": [
    {
     "name": "stdout",
     "output_type": "stream",
     "text": [
      "1\n",
      "2\n",
      "3\n",
      "4\n"
     ]
    }
   ],
   "source": [
    "for i in range(1,5):\n",
    "    print(i)"
   ]
  },
  {
   "cell_type": "code",
   "execution_count": 7,
   "metadata": {
    "collapsed": false
   },
   "outputs": [
    {
     "name": "stdout",
     "output_type": "stream",
     "text": [
      "5050\n",
      "100\n"
     ]
    }
   ],
   "source": [
    "one_to_hundred_list = range(1, 101)\n",
    "summation = 0\n",
    "i = 0\n",
    "\n",
    "while i < len(one_to_hundred_list):\n",
    "        summation += one_to_hundred_list[i]\n",
    "        i += 1\n",
    "\n",
    "print(summation)\n",
    "print(i)"
   ]
  },
  {
   "cell_type": "code",
   "execution_count": 8,
   "metadata": {
    "collapsed": false
   },
   "outputs": [
    {
     "name": "stdout",
     "output_type": "stream",
     "text": [
      "1 是奇數\n",
      "2 是偶數\n",
      "3 是奇數\n",
      "4 是偶數\n",
      "5 是奇數\n",
      "6 是偶數\n",
      "7 是奇數\n",
      "8 是偶數\n",
      "9 是奇數\n",
      "10 是偶數\n"
     ]
    }
   ],
   "source": [
    "my_seq = list(range(1, 11))\n",
    "for iterator in my_seq:\n",
    "    if (iterator % 2 == 0):\n",
    "        print(iterator, \"是偶數\")\n",
    "    else:\n",
    "        print(iterator, \"是奇數\")"
   ]
  },
  {
   "cell_type": "code",
   "execution_count": 9,
   "metadata": {
    "collapsed": false
   },
   "outputs": [
    {
     "name": "stdout",
     "output_type": "stream",
     "text": [
      "19\n",
      "21\n",
      "20\n",
      "19\n",
      "21\n",
      "17\n",
      "30\n",
      "---\n",
      "36\n"
     ]
    }
   ],
   "source": [
    "ages = [19, 21, 20, 19, 21, 17, 30, 36, 90]\n",
    "for age in ages:\n",
    "    if (age > 30):\n",
    "        break\n",
    "    else:\n",
    "        print(age)\n",
    "\n",
    "print(\"---\")\n",
    "print(age)"
   ]
  },
  {
   "cell_type": "code",
   "execution_count": 10,
   "metadata": {
    "collapsed": false
   },
   "outputs": [
    {
     "name": "stdout",
     "output_type": "stream",
     "text": [
      "30\n",
      "36\n",
      "90\n",
      "---\n",
      "90\n"
     ]
    }
   ],
   "source": [
    "ages = [19, 21, 20, 19, 21, 17, 30, 36, 90]\n",
    "for age in ages:\n",
    "    if (age < 30):\n",
    "        continue\n",
    "    else:\n",
    "        print(age)\n",
    "\n",
    "print(\"---\")\n",
    "print(age)"
   ]
  },
  {
   "cell_type": "code",
   "execution_count": null,
   "metadata": {
    "collapsed": true
   },
   "outputs": [],
   "source": []
  }
 ],
 "metadata": {
  "kernelspec": {
   "display_name": "Python 3",
   "language": "python",
   "name": "python3"
  },
  "language_info": {
   "codemirror_mode": {
    "name": "ipython",
    "version": 3
   },
   "file_extension": ".py",
   "mimetype": "text/x-python",
   "name": "python",
   "nbconvert_exporter": "python",
   "pygments_lexer": "ipython3",
   "version": "3.5.2"
  }
 },
 "nbformat": 4,
 "nbformat_minor": 1
}
