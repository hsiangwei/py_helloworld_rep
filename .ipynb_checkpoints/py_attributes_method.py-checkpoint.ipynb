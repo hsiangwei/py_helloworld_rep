{
 "cells": [
  {
   "cell_type": "code",
   "execution_count": 1,
   "metadata": {
    "collapsed": false
   },
   "outputs": [
    {
     "name": "stdout",
     "output_type": "stream",
     "text": [
      "False\n",
      "True\n",
      "7\n",
      "3\n",
      "Python for data science!!!\n",
      "Python For Data Science!!!\n",
      "PYTHON FOR DATA SCIENCE!!!\n",
      "python for data science!!!\n",
      "PYTHON FOR dATA SCIENCE!!!\n",
      "python for Data analysis!!!\n"
     ]
    }
   ],
   "source": [
    "my_str = \"python for Data science!!!\"\n",
    "\n",
    "print(my_str.startswith(\"Python\"))\n",
    "print(my_str.endswith(\"!\"))\n",
    "print(my_str.find(\"for\"))\n",
    "print(my_str.count(\"!\"))\n",
    "print(my_str.capitalize())\n",
    "print(my_str.title())\n",
    "print(my_str.upper())\n",
    "print(my_str.lower())\n",
    "print(my_str.swapcase())\n",
    "print(my_str.replace(\"science\", \"analysis\"))\n"
   ]
  },
  {
   "cell_type": "code",
   "execution_count": 2,
   "metadata": {
    "collapsed": false
   },
   "outputs": [
    {
     "name": "stdout",
     "output_type": "stream",
     "text": [
      "[19, 21, 20, 19, 21, 17, 30, 36, 90]\n",
      "90\n",
      "[19, 21, 20, 19, 21, 17, 30, 36]\n",
      "1\n",
      "2\n",
      "[17, 19, 19, 20, 21, 21, 30, 36, 90, 90]\n",
      "[90, 90, 36, 30, 21, 21, 20, 19, 19, 17]\n"
     ]
    }
   ],
   "source": [
    "list\n",
    "age = [19, 21, 20, 19, 21, 17, 30, 36]\n",
    "\n",
    "age.append(90)\n",
    "print(age)\n",
    "brook_age = age.pop()\n",
    "print(brook_age)\n",
    "print(age)\n",
    "age.insert(8, brook_age)\n",
    "age.remove(brook_age)\n",
    "print(age.index(21))\n",
    "age.append(90)\n",
    "age.append(90)\n",
    "print(age.count(90))\n",
    "age.sort()\n",
    "print(age)\n",
    "age.reverse()\n",
    "print(age)"
   ]
  },
  {
   "cell_type": "code",
   "execution_count": 3,
   "metadata": {
    "collapsed": false
   },
   "outputs": [
    {
     "name": "stdout",
     "output_type": "stream",
     "text": [
      "21\n",
      "dict_keys(['win_percentage', 'is_on_winning_streak', 'losses', 'wins', 'team_name'])\n",
      "dict_values([0.84, True, 4, 21, '金州勇士隊'])\n"
     ]
    }
   ],
   "source": [
    "# as of 2016-12-13\n",
    "team_name = \"金州勇士隊\"\n",
    "wins = 21\n",
    "losses = 4\n",
    "win_percentage = 0.84\n",
    "is_on_winning_streak = True\n",
    "\n",
    "golden_state_warriors = {\n",
    "    \"team_name\": team_name,\n",
    "    \"wins\": wins,\n",
    "    \"losses\": losses,\n",
    "    \"win_percentage\": win_percentage,\n",
    "    \"is_on_winning_streak\": is_on_winning_streak\n",
    "}\n",
    "\n",
    "print(golden_state_warriors.get(\"wins\"))\n",
    "print(golden_state_warriors.keys()) # 用 list 把結果轉換\n",
    "print(golden_state_warriors.values()) # 用 list 把結果轉換"
   ]
  },
  {
   "cell_type": "code",
   "execution_count": 5,
   "metadata": {
    "collapsed": false,
    "scrolled": true
   },
   "outputs": [
    {
     "name": "stdout",
     "output_type": "stream",
     "text": [
      "[ 0.  0.  0.  0.  0.  0.]\n",
      "[ 0  1  2  3  4  5  6  7  8  9 10]\n",
      "[ 1  2  3  4  5  6  7  8  9 10]\n",
      "['0' '1' '2' '3' '4' '5' '6' '7' '8' '9']\n",
      "[[0 1 2 3 4]\n",
      " [5 6 7 8 9]]\n",
      "[[0 1]\n",
      " [2 3]\n",
      " [4 5]\n",
      " [6 7]\n",
      " [8 9]]\n",
      "[[0 5]\n",
      " [1 6]\n",
      " [2 7]\n",
      " [3 8]\n",
      " [4 9]]\n",
      "[ 1.9882896  -0.36334174 -0.7086713  -0.9335078  -0.05052996  1.07852688\n",
      " -0.47714561  1.06139791  0.78778424 -0.50089223]\n",
      "[ 0.6516116   0.12253864  0.28553744  0.87037859  0.50375719  0.71720537\n",
      "  0.77473411  0.43240316  0.96400024  0.19467835]\n"
     ]
    }
   ],
   "source": [
    "import numpy as np\n",
    "\n",
    "print(np.zeros(6)) # 六個元素均為零的 1d array\n",
    "print(np.arange(11)) # 十一個元素為 0 到 10 的 1d array\n",
    "print(np.arange(1, 11)) # 十個元素為 1 到 10 的 1d array\n",
    "print(np.arange(10).astype(np.str)) # 利用 astype() 方法轉換為文字 \n",
    "print(np.arange(10).reshape(2, 5)) # 利用 reshape() 轉換為矩陣\n",
    "print(np.arange(10).reshape(5, 2)) # 利用 reshape() 轉換為矩陣\n",
    "print(np.arange(10).reshape(2, 5).T) # 利用 T 屬性轉置\n",
    "print(np.random.normal(size = 10)) # 生成 10 組標準常態分配（平均值為 0，標準差為 1 的常態分配）隨機變數\n",
    "print(np.random.uniform(size = 10)) # 生成 10 組介於 0 與 1 之間均勻分配隨機變數"
   ]
  },
  {
   "cell_type": "code",
   "execution_count": 16,
   "metadata": {
    "collapsed": false
   },
   "outputs": [
    {
     "data": {
      "text/html": [
       "<div>\n",
       "<table border=\"1\" class=\"dataframe\">\n",
       "  <thead>\n",
       "    <tr style=\"text-align: right;\">\n",
       "      <th></th>\n",
       "      <th>name</th>\n",
       "    </tr>\n",
       "  </thead>\n",
       "  <tbody>\n",
       "    <tr>\n",
       "      <th>0</th>\n",
       "      <td>蒙其·D·魯夫</td>\n",
       "    </tr>\n",
       "    <tr>\n",
       "      <th>1</th>\n",
       "      <td>羅羅亞·索隆</td>\n",
       "    </tr>\n",
       "    <tr>\n",
       "      <th>2</th>\n",
       "      <td>娜美</td>\n",
       "    </tr>\n",
       "    <tr>\n",
       "      <th>3</th>\n",
       "      <td>騙人布</td>\n",
       "    </tr>\n",
       "    <tr>\n",
       "      <th>4</th>\n",
       "      <td>賓什莫克·香吉士</td>\n",
       "    </tr>\n",
       "    <tr>\n",
       "      <th>5</th>\n",
       "      <td>多尼多尼·喬巴</td>\n",
       "    </tr>\n",
       "    <tr>\n",
       "      <th>6</th>\n",
       "      <td>妮可·羅賓</td>\n",
       "    </tr>\n",
       "    <tr>\n",
       "      <th>7</th>\n",
       "      <td>佛朗基</td>\n",
       "    </tr>\n",
       "    <tr>\n",
       "      <th>8</th>\n",
       "      <td>布魯克</td>\n",
       "    </tr>\n",
       "  </tbody>\n",
       "</table>\n",
       "</div>"
      ],
      "text/plain": [
       "       name\n",
       "0   蒙其·D·魯夫\n",
       "1    羅羅亞·索隆\n",
       "2        娜美\n",
       "3       騙人布\n",
       "4  賓什莫克·香吉士\n",
       "5   多尼多尼·喬巴\n",
       "6     妮可·羅賓\n",
       "7       佛朗基\n",
       "8       布魯克"
      ]
     },
     "execution_count": 16,
     "metadata": {},
     "output_type": "execute_result"
    }
   ],
   "source": [
    "\n",
    "import pandas as pd\n",
    "\n",
    "name = [\"蒙其·D·魯夫\", \"羅羅亞·索隆\", \"娜美\", \"騙人布\", \"賓什莫克·香吉士\", \"多尼多尼·喬巴\", \"妮可·羅賓\", \"佛朗基\", \"布魯克\"]\n",
    "age = [19, 21, 20, 19, 21, 17, 30, 36, 90]\n",
    "\n",
    "# 建立 dict\n",
    "straw_hat_dict = {\"name\": name,\n",
    "                  \"age\": age\n",
    "}\n",
    "\n",
    "# 建立 data frame\n",
    "straw_hat_df = pd.DataFrame(straw_hat_dict)\n",
    "\n",
    "\n",
    "# 刪除觀測值或欄位\n",
    "#straw_hat_df.drop(\"name\", axis = 1)\n",
    "#straw_hat_df.drop(\"age\", axis = 0)\n",
    "\n",
    "# 選擇觀測值或欄位\n",
    "#straw_hat_df.ix[0, :]\n",
    "#straw_hat_df.ix[:, 0]\n",
    "#straw_hat_df.ix[0, 0]\n",
    "                    \n",
    "# 透過布林值篩選\n",
    "#filter = straw_hat_df.age >= 30\n",
    "#straw_hat_df[filter]\n",
    "#filter = straw_hat_df.age < 30\n",
    "#filter_2 = straw_hat_df.name == \"蒙其·D·魯夫\"\n",
    "#straw_hat_df[filter & filter_2]\n",
    "\n",
    "\n"
   ]
  },
  {
   "cell_type": "code",
   "execution_count": null,
   "metadata": {
    "collapsed": true
   },
   "outputs": [],
   "source": []
  },
  {
   "cell_type": "code",
   "execution_count": null,
   "metadata": {
    "collapsed": true
   },
   "outputs": [],
   "source": []
  }
 ],
 "metadata": {
  "kernelspec": {
   "display_name": "Python 3",
   "language": "python",
   "name": "python3"
  },
  "language_info": {
   "codemirror_mode": {
    "name": "ipython",
    "version": 3
   },
   "file_extension": ".py",
   "mimetype": "text/x-python",
   "name": "python",
   "nbconvert_exporter": "python",
   "pygments_lexer": "ipython3",
   "version": "3.5.2"
  }
 },
 "nbformat": 4,
 "nbformat_minor": 1
}
